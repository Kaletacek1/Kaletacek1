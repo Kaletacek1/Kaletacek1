{
  "nbformat": 4,
  "nbformat_minor": 0,
  "metadata": {
    "colab": {
      "provenance": [],
      "authorship_tag": "ABX9TyMaLrH1L2XyUzStys5z8g2F",
      "include_colab_link": true
    },
    "kernelspec": {
      "name": "python3",
      "display_name": "Python 3"
    },
    "language_info": {
      "name": "python"
    }
  },
  "cells": [
    {
      "cell_type": "markdown",
      "metadata": {
        "id": "view-in-github",
        "colab_type": "text"
      },
      "source": [
        "<a href=\"https://colab.research.google.com/github/Kaletacek1/Kaletacek1/blob/main/Untitled0.ipynb\" target=\"_parent\"><img src=\"https://colab.research.google.com/assets/colab-badge.svg\" alt=\"Open In Colab\"/></a>"
      ]
    },
    {
      "cell_type": "code",
      "execution_count": 3,
      "metadata": {
        "colab": {
          "base_uri": "https://localhost:8080/"
        },
        "id": "hDsrVtT7ViCy",
        "outputId": "adaa942e-38d0-458e-d077-745ba608d0c6"
      },
      "outputs": [
        {
          "output_type": "stream",
          "name": "stdout",
          "text": [
            "Looking in indexes: https://pypi.org/simple, https://us-python.pkg.dev/colab-wheels/public/simple/\n",
            "Requirement already satisfied: scipy==1.9.3 in /usr/local/lib/python3.8/dist-packages (1.9.3)\n",
            "Requirement already satisfied: numpy<1.26.0,>=1.18.5 in /usr/local/lib/python3.8/dist-packages (from scipy==1.9.3) (1.21.6)\n",
            "[  0.   0.   0. 366. 138.  56.   0.]\n",
            "            fun: -16800.0\n",
            "        message: 'Optimization terminated successfully. (HiGHS Status 7: Optimal)'\n",
            " mip_dual_bound: -16800.0\n",
            "        mip_gap: 0.0\n",
            " mip_node_count: 1\n",
            "         status: 0\n",
            "        success: True\n",
            "              x: array([  0.,   0.,   0., 366., 138.,  56.,   0.])\n"
          ]
        }
      ],
      "source": [
        "! pip install scipy==1.9.3\n",
        "\n",
        "import numpy as np\n",
        "from scipy import optimize as op\n",
        "#před blížícím mistrovství evropy v softballu chci natisknout odznáčky s vlajkami účastnících se zemí. Následně placky prodávat před vstupem na stadion. \n",
        "#použiji k tomu tiskárnu od průšy s mmu upgradem. Na každou vlajku je potřeba jiné množtví použitého filamentu. A filamentu mám omezené množství stejně času. Nový filament už by nestihl přijít.\n",
        "#mnozstvi v gramech\n",
        "mnozstvi_cervena = 20000 \n",
        "mnozstvi_bila = 25000\n",
        "mnozstvi_modra = 10000\n",
        "\n",
        "cervena_Francie = 30\n",
        "cervena_Britanie = 30\n",
        "cervena_Cesko = 40\n",
        "cervena_Polsko = 50\n",
        "cervena_Recko = 0\n",
        "cervena_Slovensko = 30\n",
        "cervena_Dansko = 80\n",
        "bila_Francie = 30\n",
        "bila_Britanie = 20\n",
        "bila_Cesko = 40\n",
        "bila_Polsko = 50\n",
        "bila_Recko = 40\n",
        "bila_Slovensko = 20\n",
        "bila_Dansko = 50\n",
        "modra_Francie = 30\n",
        "modra_Britanie = 30\n",
        "modra_Cesko = 20\n",
        "modra_Polsko = 0\n",
        "modra_Recko = 60\n",
        "modra_Slovensko = 30\n",
        "modra_Dansko = 0\n",
        "\n",
        "zisk_Francie = 30\n",
        "zisk_Britanie = 30\n",
        "zisk_Cesko = 30\n",
        "zisk_Polsko = 30\n",
        "zisk_Recko = 30\n",
        "zisk_Slovensko = 30\n",
        "zisk_Dansko = 30\n",
        "\n",
        "zisk = -np.array([zisk_Francie, zisk_Britanie, zisk_Cesko, zisk_Polsko, zisk_Recko, zisk_Slovensko, zisk_Dansko,])\n",
        "\n",
        "horni_limit = np.array([mnozstvi_cervena, mnozstvi_bila, mnozstvi_modra,np.inf])\n",
        "spodni_limit = np.array([0,0,0,0,])\n",
        "\n",
        "uloha_A = np.array([[cervena_Francie, cervena_Britanie, cervena_Cesko, cervena_Polsko, cervena_Recko, cervena_Slovensko, cervena_Dansko],\n",
        "                    [bila_Francie, bila_Britanie, bila_Cesko, bila_Polsko, bila_Recko, bila_Slovensko, bila_Dansko,],\n",
        "                    [modra_Francie, modra_Britanie, modra_Cesko, modra_Polsko, modra_Recko, modra_Slovensko, modra_Dansko,],\n",
        "                    [1,1,1,1,1,1,1]])\n",
        "\n",
        "omezeni = op.LinearConstraint(uloha_A, spodni_limit, horni_limit)\n",
        "celociselnost = np.array([1, 1, 1, 1, 1, 1, 1])\n",
        "\n",
        "vysledek = op.milp(c=zisk, constraints=omezeni, integrality=celociselnost)\n",
        "print(vysledek.x)\n",
        "print(vysledek)"
      ]
    }
  ]
}